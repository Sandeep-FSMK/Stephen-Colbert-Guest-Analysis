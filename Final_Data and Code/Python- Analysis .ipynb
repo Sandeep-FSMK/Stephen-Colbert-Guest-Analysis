{
 "cells": [
  {
   "cell_type": "code",
   "execution_count": 20,
   "metadata": {},
   "outputs": [],
   "source": [
    "from bs4 import BeautifulSoup\n",
    "from urllib.request import urlopen\n",
    "import re\n",
    "import numpy as np\n",
    "import pandas as pd \n",
    "import difflib \n",
    "import math\n",
    "from ast import literal_eval\n",
    "import matplotlib.pyplot as plt\n",
    "\n",
    "%matplotlib inline\n",
    "%config InlineBackend.figure_format = 'retina'"
   ]
  },
  {
   "cell_type": "markdown",
   "metadata": {},
   "source": [
    "##### 3 Questions \n",
    "\n",
    "I am trying to answer these three questions from the guest demographics of demographic characteristics or trends of one of the popular shows which is Late Show with Stephen Colbert.\n",
    "\n",
    "**1.What do most of the Stephen Colbert's guests do for a living?** \n",
    "\n",
    "**2.What is the age distribution among these guests?**  \n",
    "\n",
    "**3.Are there significant gap in gender of total number of guests?**  "
   ]
  },
  {
   "cell_type": "markdown",
   "metadata": {},
   "source": [
    "##### CRISP-DM Process \n",
    "From Wikipedia \"is an open standard process model that describes common approaches used by data mining experts. It is the most widely-used analytics model.\" Here I will try to apply the process to the question we have at hand. \n",
    "\n",
    "1.**Business Understanding**\n",
    "\n",
    "We are trying to analyse the demographics of the late night shows. Late night shows are something unique to the US culture and has a rich history after post world war. Millions of Americans listen to late-night shows like Late Show with Stephen Colbert , The tonight show of Jimmy Falon , The Daily Show of Trevor Noah etc. Our aim here is to understand the demographic characteristics or trends of one of the popular shows which is Late Show with Stephen Colbert. \n",
    "\n",
    "2.**Data Understanding**\n",
    "\n",
    "We need two types of data for this analysis \n",
    "\n",
    "   1. *Episode details* of the Late Show from 2015 to 2018. It should have date,episode number and guests who came and the wikipedia hyperlink to the guest's profile. At this point we are not including the musical guests. This has to be taken from show's wikipedia page https://en.wikipedia.org/wiki/List_of_The_Late_Show_with_Stephen_Colbert_episodes\n",
    "   \n",
    "   2. *Individual guest details* which will contain the guest name,Occupation,Education,Gender,Nationality,Country,State and City of Origin,political affiliation if any and age.This data has to be scraped from the individual guest's wikipedia page which has already scraped from the episode details.  \n",
    "\n",
    "3.**Data Preparation**\n",
    "\n",
    "I have used two programs to scrape data from wikipedia.\n",
    "\n",
    "   1. **Talkshow_Data.ipynb**  \n",
    "      This program creates two CSVs episode_details.csv and guest_details.csv.  \n",
    "      1.**episode_details.csv**  \n",
    "        This CSV has the following fields episode_no(serial number of episode) ,episode_date(date the episode has been aired),guest_list( list of guests appeared in that episode; mostly more than one)   \n",
    "      2.**guest_details.csv.**  \n",
    "        This CSV has only two fields guest_name,wiki_link. This will be an input to the next scraping program which is Profile_Data.ipynb \n",
    "\n",
    "  \n",
    "***Cleaning Step-1***\n",
    "\n",
    "for guest_details.csv , duplicate guest details [same guests can come in multiple episodes] should be identified and removed. Also guest names has to be standardized. For e.g in some episodes guest name wil be 'Vice President Joe Biden' but some episodes it would be 'Joe Biden'. Also if for a particular guest if the wikipedia link hasnot populated we should manually check and add if the link is present or replace blank space with 'None' for the ease of handling these records.The data cleaning was done manually and with the help of Tableau Prep and the new file is *guest_details_01.csv*\n",
    "            \n",
    "  \n",
    "  2. Profile_Data.ipynb\n",
    "  \n",
    "  With guest_details_01.csv as the input of Profile_Data.ipynb this program  goes to the each record from guest details csv and pull out following information from the personal wikipedia page. \n",
    "  \n",
    "    1.Name.  \n",
    "    2.Age.  \n",
    "    3.Country born.  \n",
    "    4.State Born.  \n",
    "    5.City Born.  \n",
    "    6.Nationality.  \n",
    "    7.Almamater.  \n",
    "    8.Education.  \n",
    "    9.Occupation.  \n",
    "    10.Political party.  \n",
    "    \n",
    "\n",
    "\n",
    "\n",
    "  \n",
    "4.**Modeling,Evaluation and Deployment** \n",
    "\n",
    "At this point all the questions I am trying to answer can be done by descriptive statistics. So I am not planning to build a predictive model,evaluation and deployment.  \n"
   ]
  },
  {
   "cell_type": "markdown",
   "metadata": {},
   "source": [
    "##### Cleaning steps\n",
    "\n",
    "**A note about cleaning**\n",
    "\n",
    "Since this is project where research question and data has started from the scratch many times I had to rely on manual and no-pythonic methods(read: Tableau) to clean the data. But I have documneted all the cleaning/transformation steps by maintaing the versions of the data files. \n",
    "\n",
    "***Cleaning Step-1***\n",
    "\n",
    "for guest_details.csv , duplicate guest details [same guests can come in multiple episodes] should be identified and removed. Also guest names has to be standardized. For e.g in some episodes guest name wil be 'Vice President Joe Biden' but some episodes it would be 'Joe Biden'. Also if for a particular guest if the wikipedia link hasnot populated we should manually check and add if the link is present or replace blank space with 'None' for the ease of handling these records.The data cleaning was done manually and with the help of Tableau Prep and the new file is *guest_details_01.csv*\n",
    "            \n",
    "\n",
    "***Cleaning Step-2***\n",
    "\n",
    "Input file before cleaning:profile_details.csv  \n",
    "\n",
    "Cleaned the Occupation and Education categories from profile_details.csv in such a way that it can be read as a python list.Because of the non standard format of wikipedia data ,the downloaded data wasn't in a proper format. Manually checked the nationalities and cleaned up State , City and Country fields. \n",
    "\n",
    "Output file after cleaning: profile_details_01.csv \n",
    "\n",
    "\n",
    "***Cleaning Step-3***\n",
    "\n",
    "Input file before cleaning:profile_details_01.csv  \n",
    "\n",
    "Added Gender field manually.And deleted duplicates which is missed from step-1 \n",
    "\n",
    "Output file after cleaning: profile_details_02.csv \n",
    "\n",
    "\n",
    "***Cleaning Step-4***\n",
    "\n",
    "Input file before cleaning:profile_details_02.csv  \n",
    "\n",
    "Splitted Education and Almamater fields to handle multiple values. \n",
    "\n",
    "Output file after cleaning: profile_details_03.csv \n",
    "\n",
    "\n",
    "***Cleaning Step-5***\n",
    "\n",
    "Input file before cleaning:profile_details_03.csv  \n",
    "\n",
    "Categorized different occupations to 7 groups for the sake of clarity and analysis\n",
    "\n",
    "Output file after cleaning: profile_details_04.csv\n",
    "\n",
    "***Cleaning Step-6***\n",
    "\n",
    "Input file before cleaning:profile_details_04.csv  \n",
    "\n",
    "Created universities.csv from education and almamater fields and removed those fields from this file. Data_Cleaning.ipynb program has been used for this. Also cross checked political affiliations manaully.\n",
    "\n",
    "Output file after cleaning: profile_details_05.csv and universities.csv \n",
    "\n",
    "\n",
    "\n"
   ]
  },
  {
   "cell_type": "markdown",
   "metadata": {},
   "source": []
  },
  {
   "cell_type": "code",
   "execution_count": 6,
   "metadata": {},
   "outputs": [],
   "source": [
    "df = pd.read_csv(\"profile_details_05.csv\") "
   ]
  },
  {
   "cell_type": "code",
   "execution_count": 7,
   "metadata": {},
   "outputs": [
    {
     "data": {
      "text/html": [
       "<div>\n",
       "<style scoped>\n",
       "    .dataframe tbody tr th:only-of-type {\n",
       "        vertical-align: middle;\n",
       "    }\n",
       "\n",
       "    .dataframe tbody tr th {\n",
       "        vertical-align: top;\n",
       "    }\n",
       "\n",
       "    .dataframe thead th {\n",
       "        text-align: right;\n",
       "    }\n",
       "</style>\n",
       "<table border=\"1\" class=\"dataframe\">\n",
       "  <thead>\n",
       "    <tr style=\"text-align: right;\">\n",
       "      <th></th>\n",
       "      <th>name</th>\n",
       "      <th>wiki_link</th>\n",
       "      <th>age</th>\n",
       "      <th>country_born</th>\n",
       "      <th>state_born</th>\n",
       "      <th>city_born</th>\n",
       "      <th>nationality</th>\n",
       "      <th>gender</th>\n",
       "      <th>occupation</th>\n",
       "      <th>political_party</th>\n",
       "    </tr>\n",
       "  </thead>\n",
       "  <tbody>\n",
       "    <tr>\n",
       "      <th>0</th>\n",
       "      <td>Coyote Peterson</td>\n",
       "      <td>https://en.wikipedia.org/wiki/Coyote_Peterson</td>\n",
       "      <td>38.0</td>\n",
       "      <td>U.S.</td>\n",
       "      <td>Ohio</td>\n",
       "      <td>Newbury</td>\n",
       "      <td>American</td>\n",
       "      <td>M</td>\n",
       "      <td>Activism and Philanthropy</td>\n",
       "      <td>NaN</td>\n",
       "    </tr>\n",
       "    <tr>\n",
       "      <th>1</th>\n",
       "      <td>Hugh Evans</td>\n",
       "      <td>https://en.wikipedia.org/wiki/Hugh_Evans_(huma...</td>\n",
       "      <td>35.0</td>\n",
       "      <td>Australia</td>\n",
       "      <td>Victoria</td>\n",
       "      <td>Melbourne</td>\n",
       "      <td>Australian</td>\n",
       "      <td>M</td>\n",
       "      <td>Activism and Philanthropy</td>\n",
       "      <td>NaN</td>\n",
       "    </tr>\n",
       "    <tr>\n",
       "      <th>2</th>\n",
       "      <td>Erin Brockovich</td>\n",
       "      <td>https://en.wikipedia.org/wiki/Erin_Brockovich</td>\n",
       "      <td>58.0</td>\n",
       "      <td>U.S.</td>\n",
       "      <td>Kansas</td>\n",
       "      <td>Lawrence</td>\n",
       "      <td>American</td>\n",
       "      <td>F</td>\n",
       "      <td>Activism and Philanthropy</td>\n",
       "      <td>NaN</td>\n",
       "    </tr>\n",
       "    <tr>\n",
       "      <th>3</th>\n",
       "      <td>DeRay McKesson</td>\n",
       "      <td>https://en.wikipedia.org/wiki/DeRay_McKesson</td>\n",
       "      <td>33.0</td>\n",
       "      <td>U.S.</td>\n",
       "      <td>Maryland</td>\n",
       "      <td>Baltimore</td>\n",
       "      <td>American</td>\n",
       "      <td>M</td>\n",
       "      <td>Activism and Philanthropy</td>\n",
       "      <td>NaN</td>\n",
       "    </tr>\n",
       "    <tr>\n",
       "      <th>4</th>\n",
       "      <td>Malala Yousafzai</td>\n",
       "      <td>https://en.wikipedia.org/wiki/Malala_Yousafzai</td>\n",
       "      <td>21.0</td>\n",
       "      <td>Pakistan</td>\n",
       "      <td>Swat</td>\n",
       "      <td>Mingora</td>\n",
       "      <td>Pakistani</td>\n",
       "      <td>F</td>\n",
       "      <td>Activism and Philanthropy</td>\n",
       "      <td>NaN</td>\n",
       "    </tr>\n",
       "  </tbody>\n",
       "</table>\n",
       "</div>"
      ],
      "text/plain": [
       "               name                                          wiki_link   age  \\\n",
       "0   Coyote Peterson      https://en.wikipedia.org/wiki/Coyote_Peterson  38.0   \n",
       "1        Hugh Evans  https://en.wikipedia.org/wiki/Hugh_Evans_(huma...  35.0   \n",
       "2   Erin Brockovich      https://en.wikipedia.org/wiki/Erin_Brockovich  58.0   \n",
       "3    DeRay McKesson       https://en.wikipedia.org/wiki/DeRay_McKesson  33.0   \n",
       "4  Malala Yousafzai     https://en.wikipedia.org/wiki/Malala_Yousafzai  21.0   \n",
       "\n",
       "  country_born state_born  city_born nationality gender  \\\n",
       "0         U.S.       Ohio    Newbury    American      M   \n",
       "1    Australia   Victoria  Melbourne  Australian      M   \n",
       "2         U.S.     Kansas   Lawrence    American      F   \n",
       "3         U.S.   Maryland  Baltimore    American      M   \n",
       "4     Pakistan       Swat    Mingora   Pakistani      F   \n",
       "\n",
       "                  occupation political_party  \n",
       "0  Activism and Philanthropy             NaN  \n",
       "1  Activism and Philanthropy             NaN  \n",
       "2  Activism and Philanthropy             NaN  \n",
       "3  Activism and Philanthropy             NaN  \n",
       "4  Activism and Philanthropy             NaN  "
      ]
     },
     "execution_count": 7,
     "metadata": {},
     "output_type": "execute_result"
    }
   ],
   "source": [
    "df.head()"
   ]
  },
  {
   "cell_type": "markdown",
   "metadata": {},
   "source": [
    "**1.What do most of the Stephen Colbert's guests do for a living?** "
   ]
  },
  {
   "cell_type": "code",
   "execution_count": 22,
   "metadata": {},
   "outputs": [
    {
     "data": {
      "text/plain": [
       "<matplotlib.axes._subplots.AxesSubplot at 0x222280fd0>"
      ]
     },
     "execution_count": 22,
     "metadata": {},
     "output_type": "execute_result"
    },
    {
     "data": {
      "image/png": "[encoded data removed]",
      "text/plain": [
       "<Figure size 432x288 with 1 Axes>"
      ]
     },
     "metadata": {
      "image/png": {
       "height": 250,
       "width": 530
      },
      "needs_background": "light"
     },
     "output_type": "display_data"
    }
   ],
   "source": [
    "df['occupation'].value_counts().plot(kind='barh')"
   ]
  },
  {
   "cell_type": "markdown",
   "metadata": {},
   "source": [
    "It's very obvious that we have 75% of the guests from Entertainment and show business. This sits well with the results we got from the Tableau analysis which is ecpressed in the blog."
   ]
  },
  {
   "cell_type": "markdown",
   "metadata": {},
   "source": [
    "\n",
    "**2.What is the age distribution among these guests?** "
   ]
  },
  {
   "cell_type": "code",
   "execution_count": 27,
   "metadata": {},
   "outputs": [],
   "source": [
    "age = df[df['age'] >0]"
   ]
  },
  {
   "cell_type": "code",
   "execution_count": 28,
   "metadata": {},
   "outputs": [
    {
     "data": {
      "text/html": [
       "<div>\n",
       "<style scoped>\n",
       "    .dataframe tbody tr th:only-of-type {\n",
       "        vertical-align: middle;\n",
       "    }\n",
       "\n",
       "    .dataframe tbody tr th {\n",
       "        vertical-align: top;\n",
       "    }\n",
       "\n",
       "    .dataframe thead th {\n",
       "        text-align: right;\n",
       "    }\n",
       "</style>\n",
       "<table border=\"1\" class=\"dataframe\">\n",
       "  <thead>\n",
       "    <tr style=\"text-align: right;\">\n",
       "      <th></th>\n",
       "      <th>age</th>\n",
       "    </tr>\n",
       "  </thead>\n",
       "  <tbody>\n",
       "    <tr>\n",
       "      <th>count</th>\n",
       "      <td>984.000000</td>\n",
       "    </tr>\n",
       "    <tr>\n",
       "      <th>mean</th>\n",
       "      <td>48.400407</td>\n",
       "    </tr>\n",
       "    <tr>\n",
       "      <th>std</th>\n",
       "      <td>13.565269</td>\n",
       "    </tr>\n",
       "    <tr>\n",
       "      <th>min</th>\n",
       "      <td>10.000000</td>\n",
       "    </tr>\n",
       "    <tr>\n",
       "      <th>25%</th>\n",
       "      <td>38.000000</td>\n",
       "    </tr>\n",
       "    <tr>\n",
       "      <th>50%</th>\n",
       "      <td>47.000000</td>\n",
       "    </tr>\n",
       "    <tr>\n",
       "      <th>75%</th>\n",
       "      <td>57.000000</td>\n",
       "    </tr>\n",
       "    <tr>\n",
       "      <th>max</th>\n",
       "      <td>94.000000</td>\n",
       "    </tr>\n",
       "  </tbody>\n",
       "</table>\n",
       "</div>"
      ],
      "text/plain": [
       "              age\n",
       "count  984.000000\n",
       "mean    48.400407\n",
       "std     13.565269\n",
       "min     10.000000\n",
       "25%     38.000000\n",
       "50%     47.000000\n",
       "75%     57.000000\n",
       "max     94.000000"
      ]
     },
     "execution_count": 28,
     "metadata": {},
     "output_type": "execute_result"
    }
   ],
   "source": [
    "age.describe()"
   ]
  },
  {
   "cell_type": "markdown",
   "metadata": {},
   "source": [
    "Out of the 984 guests whose age is mentioned the average age is 48.4 and 75% of the guests were of less than 57 years old. Also if you look at the standard deviation which is 13 you will get a fair idea about the distribution of the age."
   ]
  },
  {
   "cell_type": "markdown",
   "metadata": {},
   "source": [
    "**3.Are there significant gap in gender of total number of guests?**  "
   ]
  },
  {
   "cell_type": "code",
   "execution_count": 42,
   "metadata": {},
   "outputs": [],
   "source": [
    "\n",
    "gender = df[df['gender'].isin(['M', 'F']) ]"
   ]
  },
  {
   "cell_type": "code",
   "execution_count": 46,
   "metadata": {},
   "outputs": [
    {
     "data": {
      "text/plain": [
       "<matplotlib.axes._subplots.AxesSubplot at 0x222728ef0>"
      ]
     },
     "execution_count": 46,
     "metadata": {},
     "output_type": "execute_result"
    },
    {
     "data": {
      "image/png": "[encoded data removed]",
      "text/plain": [
       "<Figure size 432x288 with 1 Axes>"
      ]
     },
     "metadata": {
      "image/png": {
       "height": 250,
       "width": 366
      },
      "needs_background": "light"
     },
     "output_type": "display_data"
    }
   ],
   "source": [
    "gender['gender'].value_counts().plot(kind='barh')"
   ]
  },
  {
   "cell_type": "markdown",
   "metadata": {},
   "source": [
    "From the above figures it is very clear that there is a significant difference between number of female guests and male guests.Infact the number of female guests is around 350 and the number of male guests is 649"
   ]
  },
  {
   "cell_type": "markdown",
   "metadata": {},
   "source": [
    "For detailed analysis please see https://towardsdatascience.com/these-5-data-visualizations-will-make-you-see-late-show-with-stephen-colbert-in-a-new-light-34e03cc2541d"
   ]
  },
  {
   "cell_type": "code",
   "execution_count": null,
   "metadata": {},
   "outputs": [],
   "source": []
  }
 ],
 "metadata": {
  "kernelspec": {
   "display_name": "Python 3",
   "language": "python",
   "name": "python3"
  },
  "language_info": {
   "codemirror_mode": {
    "name": "ipython",
    "version": 3
   },
   "file_extension": ".py",
   "mimetype": "text/x-python",
   "name": "python",
   "nbconvert_exporter": "python",
   "pygments_lexer": "ipython3",
   "version": "3.7.0"
  }
 },
 "nbformat": 4,
 "nbformat_minor": 2
}
