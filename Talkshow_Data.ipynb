{
 "cells": [
  {
   "cell_type": "code",
   "execution_count": 1,
   "metadata": {},
   "outputs": [],
   "source": [
    "from bs4 import BeautifulSoup\n",
    "from urllib.request import urlopen\n",
    "import re\n",
    "import numpy as np\n",
    "import pandas as pd \n",
    "import difflib \n",
    "import prof_data\n"
   ]
  },
  {
   "cell_type": "code",
   "execution_count": 2,
   "metadata": {},
   "outputs": [],
   "source": [
    "def get_data(year):\n",
    "    site= \"https://en.wikipedia.org/wiki/List_of_The_Late_Show_with_Stephen_Colbert_episodes_(%s)\" %(year)\n",
    "    page = urlopen(site)\n",
    "    soup = BeautifulSoup(page.read(),\"lxml\")\n",
    "    table = soup.find_all('tr', class_= 'vevent')\n",
    "    data = []\n",
    "    wiki_page = []\n",
    "    date_list=[]\n",
    "    episode_no=[]\n",
    "    guests=[]\n",
    "    links_list = []\n",
    "    link_final = []\n",
    "    episode_details = {}\n",
    "    wiki_page = []\n",
    "    guest_flat = []\n",
    "    link_flat = []\n",
    "    guest_details = {}\n",
    "\n",
    "    for row in table:\n",
    "        cols = row.find_all('td')\n",
    "        links = [ele.find_all('a',href=True) for ele in cols]\n",
    "        cols = [ele.text.strip() for ele in cols]\n",
    "        data.append([ele for ele in cols if ele])\n",
    "        \n",
    "        str_list = list(filter(None, links))\n",
    "  \n",
    "        for item in str_list:\n",
    "            for i in item:\n",
    "                link_final.append(i['href'])\n",
    "            \n",
    "    data_final = [item[0:3] for item in data]\n",
    "    #print(len(data_final))\n",
    "    #print(link_final)\n",
    "    \n",
    "\n",
    "    for item in data_final:\n",
    "        episode_no.append(item[0])\n",
    "        date_list.append(item[1])\n",
    "        guest_list=re.sub(r\"( to | & )\", \",\", item[2]).split(\",\")\n",
    "        guest_list_n=[]\n",
    "        for each_guest in guest_list:\n",
    "            guest_list_n.append(each_guest.strip())\n",
    "    \n",
    "        guests.append(guest_list_n)\n",
    "        #print(guests)\n",
    "        \n",
    "    for guest_item in guests:\n",
    "        for each_guest in guest_item:\n",
    "            get_link =difflib.get_close_matches(each_guest, link_final,1,0.4)\n",
    "            guest_flat.append(each_guest.strip())\n",
    "            if len(get_link)>0:\n",
    "                link_flat.append(get_link[0])\n",
    "            else:\n",
    "                link_flat.append(None)\n",
    "                \n",
    "    print(guest_flat)\n",
    "        \n",
    "    guest_details['guest_name'] = guest_flat\n",
    "    guest_details['wiki_link'] = link_flat\n",
    "    guest_df=pd.DataFrame(guest_details)\n",
    "    guest_df['wiki_link'] = 'https://en.wikipedia.org' + guest_df['wiki_link'].astype(str)\n",
    "\n",
    "\n",
    "    episode_details['episode_no'] = episode_no\n",
    "    episode_details['episode_date']= date_list\n",
    "    episode_details['guest_list']= guests\n",
    "\n",
    "    details_df=pd.DataFrame(episode_details)\n",
    "    \n",
    "    return details_df,guest_df\n",
    "    "
   ]
  },
  {
   "cell_type": "code",
   "execution_count": 3,
   "metadata": {},
   "outputs": [
    {
     "name": "stdout",
     "output_type": "stream",
     "text": [
      "2015\n",
      "['George Clooney', 'Governor Jeb Bush', 'Scarlett Johansson', 'Elon Musk', 'Vice President Joe Biden', 'Travis Kalanick', 'Amy Schumer', 'Stephen King', 'Emily Blunt', 'Justice Stephen Breyer', 'Jake Gyllenhaal', 'Tim Cook', 'Kevin Spacey', 'Carol Burnett', 'Trevor Noah', 'Secretary-General Ban Ki-moon', \"Lupita Nyong'o\", 'Senator Bernie Sanders', 'Christopher Wheeldon', 'Stephen Curry', 'Senator Ted Cruz', 'Donald Trump', 'Dr. Ernest Moniz', 'Hugh Jackman with Hugh Evans', 'Senator Elizabeth Warren', 'Jim Gaffigan', 'Maria Shriver', 'Andrew Sullivan', 'Archbishop Thomas Wenski', 'Malala Yousafzai', 'Kerry Washington', 'First Lady Michelle Obama', 'John Legend', 'Ellen Page', 'Jesse Eisenberg', 'John Oliver', 'Evan Spiegel', 'Bill Withers', 'Ed Sheeran', 'Secretary of State John Kerry', 'Claire Danes', 'PewDiePie', 'Morgan Freeman', 'Ruth Wilson', 'Senator John McCain', 'Misty Copeland', 'Bill Clinton', 'Billy Eichner', 'Gina Rodriguez', 'Ben Bernanke', 'Cate Blanchett', 'Brian Chesky', 'James Corden', 'Shane Smith', 'Carey Mulligan', 'Elvis Costello', 'Sarah Silverman', 'Elijah Wood', 'Jack Black', 'Nick Woodman', 'Oprah Winfrey', 'Joseph Fink', 'Jeffrey Cranor', 'Jimmy Kimmel', 'Guillermo del Toro', 'Jessica Chastain', 'Tom Hiddleston', 'Mia Wasikowska', 'Sienna Miller', 'Melissa Benoist', 'Hillary Clinton', 'Anthony Bourdain', 'Carrie Brownstein', 'Julianna Margulies', 'Jonathan Franzen', 'Seth MacFarlane', 'Neil deGrasse Tyson', 'Charlie Rose', 'Stacy Schiff', 'Allison Janney', 'Colin Quinn', 'Antonio Banderas', 'Reed Hastings', 'John Irving', 'Daniel Craig', 'Elizabeth Gilbert', 'Dr. Eugenia Cheng', 'Bryan Cranston', 'Whoopi Goldberg', 'Governor John Kasich', 'Ethan Hawke', 'Senator Claire McCaskill', 'Senator Amy Klobuchar', 'Aziz Ansari', 'Shonda Rhimes', 'Bruce Campbell', 'Lucy Lawless', 'Viola Davis', 'Brian Greene', 'Jennifer Connelly', 'Judd Apatow', 'Mark Ruffalo', 'John Cleese', 'Jack H. Jacobs', 'Bill Maher', 'Florent Groberg', 'Shepard Fairey', 'Julianne Moore', 'Burt Reynolds', 'Sharon Stone', 'Justin Theroux', 'Jane Fonda', 'Andrew Lloyd Webber', 'Michael Caine', 'Larry Wilmore', 'Sylvester Stallone', 'Ted Koppel', 'Spike Lee', 'Andy Cohen', 'Carly Simon', 'Gloria Estefan', 'Eric Greitens', 'Jake Wood', 'Daniel Boulud', 'Steve Carell', 'Jennifer Hudson', 'Marion Cotillard', 'George Saunders', 'Michelle Dockery', 'Hugh Bonneville', 'Allen Leech', 'Adam McKay', 'Bruce Willis', 'Michael Lewis', 'Andrew Delbanco', 'Lin-Manuel Miranda', 'Ike Barinholtz', 'Jennifer Lawrence', 'Doris Kearns Goodwin', 'Quentin Tarantino', 'Jonathan Groff', 'Robert De Niro', 'Daniel Gilbert', 'Henry Rollins', 'Michael Moore', 'Samantha Power', 'Mandy Patinkin', 'Kayvon Beykpour']\n",
      "2016\n",
      "['Samuel L. Jackson', 'Lisa Gross', 'Olivia Hallisey', 'John Krasinski', 'Killer Mike', 'George Church', 'Jerry Seinfeld', 'Senator Rand Paul', 'Damian Lewis', 'America Ferrera', 'Matthew Broderick', 'Sarah Parcak', 'Jane Lynch', 'Julian Castro', 'Saoirse Ronan', 'Jeremy Stoppelman', 'Laura Ricciardi', 'Moira Demos', 'Paul Giamatti', 'Guerrilla Girls', 'Olivia Munn', 'T. J. Miller', 'Scott Kelly', 'Abby Wambach', 'Patricia Heaton', 'Quincy Jones', 'DeRay Mckesson', 'Charlie Day', 'Colin Hanks', 'James Spader', 'Brandon Marshall', 'Sarah Koenig', 'Christian Slater', 'Josh Radnor', 'Steven Tyler', 'Gaby Hoffmann', 'Donald Rumsfeld', 'Russell Westbrook', 'Laurence Fishburne', 'Michael Novacek', 'Chris Pine', 'Danielle Brooks', 'Jonah Reider', 'Josh Brolin', 'John Dickerson', 'Erin Brockovich', 'John Travolta', 'Courtney B. Vance', 'Amy Cuddy', 'David Schwimmer', 'Joel Osteen', 'Dr. Phil', 'Mark', 'Jay Duplass', 'Michael Eric Dyson', 'Michael Strahan', 'Samantha Bee', 'Bobby Cannavale', 'Donny Deutsch', 'Tina Fey', 'Margot Robbie', 'Will Ferrell', 'Megyn Kelly', \"Bill O'Reilly\", 'Eddie George', 'Olivia Wilde', 'Christiane Amanpour', 'Ben Stiller', 'Senator Bernie Sanders', 'Kelsey Grammer', 'Fred Armisen', 'Sarah McDaniel', 'Craig Ferguson', 'Hailey Clauson', 'Ashley Graham', 'Cory Booker', 'Eva Longoria', 'Abbi Jacobson', 'Ilana Glazer', 'Kate Hudson', 'Governor John Kasich', 'Téa Leoni', 'Amanda Peet', 'Triumph', 'the Insult Comic Dog', 'Chelsea Handler', 'Zosia Mamet', 'Casey Affleck', 'Richard Dreyfuss', 'Debra Messing', 'Zachary Quinto', 'Adrien Brody', 'Danai Gurira', 'Brian Greene', 'Tim Daly', 'Graham Nash', 'Spike Jonze', 'Jeffrey Dean Morgan', 'Chrissy Teigen', 'Mike Birbiglia', 'Adam Savage', 'Octavia Spencer', 'John Stamos', 'Bob Saget', 'Dave Coulier', 'Christopher Meloni', 'Edward Byers', 'Will Arnett', 'Charles Barkley', 'Max Greenfield', 'Helen Mirren', 'J. J. Abrams', 'Sally Field', 'Jerrod Carmichael', 'Anna Kendrick', 'U.S. Attorney General Loretta Lynch', 'Jeff Daniels', 'Audra McDonald', 'Mary Elizabeth Winstead', 'John Oliver', 'Jordan Spieth', 'Steve Martin', 'Edie Brickell', 'Shirley MacLaine', 'Theo James', 'Jussie Smollett', 'William H. Macy', 'Melissa Rauch', 'Isaac Mizrahi', 'Tom Hiddleston', 'Laura Benanti', 'Adam Driver', 'Rachel Bloom', 'Eric Stonestreet', 'Jason Jones', 'Senator Elizabeth Warren', 'Sarah Paulson', 'Tatiana Maslany', 'Steve Buscemi', 'Benjamin Walker', 'Matthew Perry', 'Nick Offerman', 'Melissa McCarthy', 'Ben Falcone', 'Arianna Huffington', 'Anna Kendrick', 'Sam Rockwell', 'David Duchovny', 'Mindy Kaling', 'Tituss Burgess', 'Ken Burns', 'Jesse Tyler Ferguson', 'Katharine McPhee', 'Kevin Spacey', 'Thomas Middleditch', 'Dennis Quaid', 'Matt Walsh', 'Tom Hanks', 'Leslie Odom', 'Jr.', 'Julia Louis-Dreyfus', 'Nikolaj Coster-Waldau', 'Michelle Williams', 'Eddie Huang', 'J. K. Simmons', 'Jane Krakowski', 'Chris Wallace', 'Susan Sarandon', 'David Tennant', 'Julianna Margulies', 'Christine Baranski', 'Matt Czuchry; Hank Azaria', 'Isaac Mizrahi', 'Phil Knight', 'Anderson Cooper', 'Mark Feuerstein', \"Bill O'Reilly\", 'Morris Chestnut', 'Dakota Johnson', 'Sebastian Stan', 'Anthony Mackie', 'Rob Reiner', 'Buzz Aldrin', 'Judith Sheindlin', 'Zac Posen', 'W. Kamau Bell', 'Lily Tomlin', 'Kumail Nanjiani', 'Kaley Cuoco', 'Dan Savage', 'Chloë Grace Moretz', 'Katie Couric', 'Charlamagne Tha God', 'Kate Beckinsale', 'B. J. Novak', 'Ryan Gosling', 'Russell Crowe', 'Jessie Mueller', 'Matt Bomer', 'Zach Woods', 'Jason Sudeikis', 'Michael Weatherly', 'Megyn Kelly', 'Anthony Anderson', 'Eugene Levy', \"Catherine O'Hara\", 'Josh Gad', 'Gillian Jacobs', 'Rose Byrne', 'Bobby Flay', 'Seth Rogen', 'Krysten Ritter', 'Emilia Clarke', 'Shiri Appleby', 'Sean Hayes', 'Brooklyn Decker', 'Lewis Black', 'James McAvoy', 'Nick Swardson', 'Brian Greene', 'Lizzy Caplan', 'Neil Young', 'Mike Epps', 'Rashida Jones', 'Daveed Diggs', 'Marina Franklin', 'James Corden', 'Scott Speedman', 'Jude Law', 'Norman Reedus', 'Laura Linney', 'John Leguizamo', 'Patrick Wilson', 'Gayle King', 'Governors Gary Johnson', 'William Weld', 'David Duchovny', 'Aaron Tveit', \"Bill O'Reilly\", 'Anna Chlumsky', 'Daniel Radcliffe', 'George Lopez', 'Liam Hemsworth', 'Ana Gasteyer', 'Demi Lovato', 'Nick Jonas', 'Amy Ryan', 'Aaron Paul', 'Michael Ian Black', 'Alexander Skarsgård', 'Natasha Leggero', 'Aubrey Plaza', 'Hugh Dancy', 'Uzo Aduba', 'Neil deGrasse Tyson', 'Senator Bernie Sanders', 'Paul Dano', 'Kevin Hart', 'Taylor Schilling', 'RuPaul Charles', 'Kevin Love', 'Jenny Slate', 'Tom Brokaw', 'Sara', 'Erin Foster', 'Samuel L. Jackson', 'Julie Klausner', 'Ellie Kemper', 'Patrick Fugit', 'Zachary Quinto', 'Natasha Lyonne', '2 Chainz', 'Bryan Cranston', 'Busy Philipps', 'Nicholas Hoult', 'John Turturro', 'Bret Baier', 'Benjamin Bratt', 'Rob Corddry', 'Bill Maher', 'Michael K. Williams', 'Charlie Rose', 'Gayle King', \"Norah O'Donnell\", 'DeRay McKesson', 'Zoe Saldana', 'Keegan-Michael Key', 'Kathryn Hahn', 'Tony Goldwyn', 'Mark Cuban', 'Lewis Black', 'Senator Elizabeth Warren', 'Billy Eichner', 'Jennifer Saunders', 'Allison Janney', 'Anthony Weiner', 'Jeff Daniels', 'Bassem Youssef', 'John Oliver', 'Jai Courtney', 'Charlamagne Tha God', 'Abbi Jacobson', 'Ilana Glazer', 'Doris Kearns Goodwin', 'Eric André', 'N/A', 'Viola Davis', 'Simon Helberg', 'Will Smith', 'Logan Lerman', 'John Cena', 'Scott Eastwood', 'Jamie Dornan', 'Javier Muñoz', 'Malcolm Gladwell', 'Diane Kruger', 'Ibtihaj Muhammad', 'Amy Schumer', 'Omari Hardwick', 'Michaela Watkins', 'Rami Malek', 'Tika Sumpter', 'Parker Sawyers', 'Anderson Cooper', 'Édgar Ramírez', 'Senator Tim Kaine', 'Tony Hale', 'Rachel Weisz', 'Kevin Smith', 'Spike Feresten', 'Riz Ahmed', 'Pedro Pascal', 'John Krasinski', 'Adam Brody', 'Christian Slater', 'Chris Geere', 'Congressman John Lewis', 'Larry Wilmore', 'Chris Noth', 'Anna Gunn', 'John Dickerson', 'Harry Connick Jr.', 'Ava DuVernay', 'Whoopi Goldberg', 'Regina Hall', 'Chesley Sullenberger', 'Jessica Alba', 'Bradley Whitford', 'George Takei', 'Tituss Burgess', 'Jeff Ross', 'Adam Richman', 'Dr. Phil', 'Alan Cumming', 'Joseph Gordon-Levitt', 'Millie Bobby Brown', 'Trevor Noah', 'Allen Iverson', 'Chris Gethard', 'Tracee Ellis Ross', 'Andrew Rannells', 'John Slattery', 'Oliver Stone', 'Chris Pratt', 'Scott Bakula', 'First Lady Michelle Obama', 'America Ferrera', 'Ethan Hawke', 'Tim Meadows', 'Anthony Anderson', 'Mark Consuelos', 'Bruce Springsteen', 'Rob Lowe', 'Kal Penn', 'Sean Penn', 'Sutton Foster', \"Lupita Nyong'o\", 'Donnie Wahlberg', 'Morgan Freeman', 'Judith Light', 'Samantha Bee', 'Abby Elliott', 'Asa Butterfield', 'Mindy Kaling', 'Gary Owen', 'John Leguizamo', 'Cheri Oteri', 'Paul F. Tompkins', 'Armie Hammer', 'Lindsey Vonn', 'Emily Blunt', 'Gael García Bernal', 'Diane Lane', 'Aja Naomi King', 'Amy Schumer', 'Omari Hardwick', 'Michaela Watkins', \"Bill O'Reilly\", 'Randall Park', 'Nick Offerman', 'Wayne Gretzky', 'Morgan Spurlock', 'Hugh Laurie', 'Paul Reiser', 'Nate Silver', 'Tiger Woods', 'Elijah Wood', 'Jorge Ramos', 'Matt LeBlanc', 'Joy Bryant', 'Congresswoman Eleanor Holmes Norton', 'Tom Hanks', 'Adam Conover', 'Will Forte', 'Dermot Mulroney', 'Wyatt Cenac', 'Joel McHale', 'Abbi Jacobson', 'Jon Glaser', 'Mary-Louise Parker', 'Pusha T', 'Drew Carey', 'Claire Foy', 'Matt Smith', 'Ruth Wilson', 'J. B. Smoove', 'The Ghost Brothers', 'Mel Gibson', 'Luke Bracey', 'Michael Strahan', 'Nick Kroll', 'Aaron Eckhart', 'Tig Notaro', 'Ron Suskind', 'Viggo Mortensen', 'Patton Oswalt', 'Don Cheadle', 'Stevie Wonder', 'Katherine Waterston', 'Miles Teller', 'Neil deGrasse Tyson', 'Triumph', 'the Insult Comic Dog', 'Sting', 'Thandie Newton', 'Mark Halperin', 'John Heilemann', 'Jeff Goldblum', 'Eddie Redmayne', 'Senator Bernie Sanders', 'Alton Brown', 'Anna Kendrick', 'Mahershala Ali', 'Marion Cotillard', 'Dev Patel', 'Amy Adams', 'Simone Biles', 'Jeff Watson', 'William H. Macy', 'Colin Quinn', 'Michael Weatherly', 'Carrie Fisher', 'James Marsden', 'Jimmie Johnson', 'John Waters', 'Danny DeVito', 'Max Greenfield', 'Tim Daly', 'Lauren Cohan', 'Lauren Graham', 'Justin Long', 'Matthew Broderick', 'Ali Wentworth', 'Jason Bateman', 'Padma Lakshmi', 'Michael Lewis', 'Vice President Joe Biden', 'DJ Khaled', 'Sigourney Weaver', 'Andy Cohen', 'Octavia Spencer', 'John Mulaney', 'Olivia Munn', 'Martin Freeman', 'John Goodman', 'Denée Benton', 'Mark Wahlberg', 'Lee Daniels', 'Neil Patrick Harris', 'Megan Mullally', 'James Franco', 'Michael Stipe', 'Liam Neeson', 'Shepard Smith', 'Tom Hanks', 'Bruce Springsteen', 'David Duchovny', 'Bryan Cranston', 'Robert De Niro', 'Amy Schumer', 'John Krasinski', 'Millie Bobby Brown', 'Will Smith', 'Anna Kendrick', 'Chris Pratt', 'Jason Bateman', 'Triumph the Insult Comic Dog']\n",
      "2017\n"
     ]
    },
    {
     "name": "stdout",
     "output_type": "stream",
     "text": [
      "['Oprah Winfrey', 'Kate Beckinsale', 'Chris Messina', 'Jen Kirkman', 'Adam Driver', 'Alexa Davalos', 'Charlie Rose', 'Hayden Panettiere', 'Jack Maxwell', 'Billy Joel', 'Josh Holloway', 'Andrew Garfield', 'Erin Andrews', 'Jude Law', 'Gabrielle Union', 'Thomas L. Friedman', 'Tom Selleck', 'Craig Robinson', 'Cuba Gooding Jr.', 'Rupert Friend', 'Sarah Paulson', 'Corey Stoll', 'Billy Eichner', 'Mel B', 'Gilbert Gottfried', 'Idina Menzel', 'Rachel Bloom', 'Louie Anderson', 'Johnny Galecki', 'Chris Matthews', 'Jim Gaffigan', 'Cristela Alonzo', 'Leslie Mann', 'Lewis Black', 'Dan Levy', 'Josh Groban', 'Rachael Ray', 'Ricky Gervais', 'Christina Ricci', 'Dr. Phil McGraw', 'Michael Bolton', 'Priyanka Chopra', 'Thomas Sadoski', 'Paul Giamatti', 'Wendy Williams', 'John Oliver', 'Isabelle Huppert', 'Robert De Niro', 'Jake Tapper', 'Ezra Edelman', 'David Oyelowo', 'Taran Killam', 'Will Arnett', 'Pete Holmes', 'Shailene Woodley', 'Laverne Cox', 'Rick', 'Marty Lagina', 'Christine Baranski', 'Bob Odenkirk', 'Tatiana Maslany', 'George Saunders', 'Sally Field', 'Maggie Siff', 'Julie Andrews', 'Christina Hendricks', 'Uma Thurman', 'Jason Jones', 'Joe Scarborough', 'Kate Upton', 'Yvette Nicole Brown', 'Kelly Ripa', 'Billy Gardell', 'Aubrey Plaza', 'Bradley Whitford', 'Allison Williams', 'Cush Jumbo', 'Connie Britton', 'Zoey Deutch', 'Josh Earnest', 'Lisa Kudrow', 'Patrick Stewart', 'Chris Colfer', 'Roy Wood Jr.', 'Hugh Jackman', 'Condola Rashād', 'Cate Blanchett', 'Paul Rust', 'Anderson Cooper', 'Judd Apatow', 'Kevin Kline', 'Jerrod Carmichael', 'General Michael Hayden', 'Mark Halperin', 'John Heilemann', 'Michael Ian Black', 'Jackson Galaxy', 'Kristen Stewart', 'Maz Jobrani', 'Felicity Huffman', 'Jurnee Smollett-Bell', 'Ewan McGregor', 'Finn Wittrock', 'Neil deGrasse Tyson', 'Todd Barry', 'Jessica Lange', 'Bassem Youssef', 'Judy Gold', 'Bryan Cranston', 'Audra McDonald', 'Ryan Reynolds', 'Josh Lucas', 'Andy Daly', 'Glenn Close', 'Michael McKean', 'H. Jon Benjamin', 'Lily Tomlin', 'Jane Fonda', 'Jay Chandrasekhar', 'Hank Azaria', 'Kate Walsh', 'Emma Roberts', 'Ken Jeong', 'Luke Bryan', 'Dierks Bentley', 'Marisa Tomei', 'Hugh Dancy', 'Susan Sarandon', 'Joey McIntyre', 'Robert Klein', 'Jason Sudeikis', 'Jennifer Esposito', 'Louis C.K.', 'Ernie Johnson Jr.', 'Sigourney Weaver', 'Jon Favreau', 'Jon Lovett', 'Tommy Vietor', 'Jessica Lange', 'Kadeem Hardison', 'Judy Gold', 'Mandy Patinkin', 'Zosia Mamet', 'Jerrod Carmichael', 'Jennifer Hudson', 'Chris Hayes', 'Christian Borle', 'Alec Baldwin', 'Charlamagne tha God', 'Rose Byrne', 'Lewis Black', 'Elisabeth Moss', 'Anthony Atamanuik', 'Rosario Dawson', 'Renée Elise Goldsberry', 'Moshe Kasher', 'Allison Janney', 'Sheryl Sandberg', 'John Legend', 'Kelly Osbourne', 'America Ferrera', 'Thomas Middleditch', 'Dave', 'Virginia Grohl', 'LL Cool J', 'Phillipa Soo', 'Tom Hanks', 'Anna Baryshnikov', 'Chris Pratt', 'Neil deGrasse Tyson', 'Amy Schumer', 'Gabourey Sidibe', 'Jim Parsons', 'Jeff Garlin', 'Paul Scheer', 'Charles Barkley', 'Debra Winger', 'Richard Gere', 'Maria Bamford', 'Rami Malek', 'Bill Nye', 'Jon Stewart', 'Samantha Bee', 'John Oliver', 'Ed Helms', 'Rob Corddry', 'Megan Mullally', 'Nick Offerman', 'Seth Meyers', 'Mayim Bialik', 'Andy Karl', 'Tracy Morgan', 'Timothy Simons', 'Danny McBride', 'Jane Krakowski', 'Gina Rodriguez', 'Ben Falcone', 'Julie Chen', 'Matt Walsh', 'David Ortiz', 'Ricky Gervais', 'Corey Hawkins', 'Jennifer Garner', 'Demetri Martin', 'Paula Poundstone', 'Rachel Maddow', 'Ben Platt', 'Kevin Spacey', 'Terry Crews', 'Rob Huebel', 'Robin Wright', 'Hannibal Buress', 'Oscar Isaac', 'Laurie Metcalf', 'April Ryan', 'Gordon Ramsay', 'David Sedaris', 'Kevin Hart', 'Ali Wentworth', 'Salma Hayek', 'Hasan Minhaj', 'Tilda Swinton', 'Andy Cohen', 'Jordan Klepper', 'John Mulaney', 'Richard Branson', 'Jim Gaffigan', 'Anna Chlumsky', 'Uzo Aduba', 'T. J. Miller', 'Oliver Stone', 'Olivia Wilde', 'Eddie Izzard', 'Trevor Noah', 'Ilana Glazer', 'Sam Richardson', 'Milo Ventimiglia', 'Judy Greer', 'Scarlett Johansson', 'Bill Burr', 'Seth Rogen', 'Kumail Nanjiani', 'Ice Cube', 'Marc Maron', 'Jeffrey Tambor', 'John Benjamin Hickey', 'Michael Keaton', 'Zoe Kazan', 'Eric Stonestreet', 'John McEnroe', 'Josh Duhamel', 'Justin Bartha', 'Brian Greene', 'Naomi Watts', 'Ari Graynor', 'Michael Keaton', 'John McEnroe', 'Woody Harrelson', 'Cobie Smulders', 'Joe Scarborough', 'Mika Brzezinski', 'Andy Serkis', 'John Oliver', 'Mike Birbiglia', 'Michael Showalter', 'Ashton Kutcher', 'Rob Corddry', 'John Oliver', 'Woody Harrelson', 'Al Gore', 'Issa Rae', 'Keegan-Michael Key', 'Cillian Murphy', 'James McAvoy', 'Jason Bateman', 'Kenneth Branagh', 'Cara Delevingne', 'Paul Bettany', 'Laura Benanti', 'Charlie Rose', 'Jessica Williams', 'Max Brooks', 'Michael Moore', 'Sutton Foster', 'Samantha Bee', 'Gillian Jacobs', 'Charlie Rose', 'Jessica Williams', 'Matthew McConaughey', 'Vanessa Bayer', 'Senator Al Franken', 'Adam Conover', 'Dave Chappelle', 'James Van Der Beek', 'Joe Walsh', 'Anthony Mackie', 'Elizabeth Olsen', 'Senator Al Franken', 'Laura Dern', 'Leah Remini', 'Christoph Waltz', \"Chris O'Dowd\", 'Sean Evans', 'Robert Pattinson', 'David Tennant', 'Niecy Nash', 'Millie Bobby Brown', 'Jim Jefferies', 'Dave Chappelle', \"Chris O'Dowd\", 'Anthony Scaramucci', 'Bob Odenkirk', 'Daniel Craig', 'Tiffany Haddish', 'Ellie Kemper', 'Andrew Dice Clay', 'Peter Serafinowicz', 'John Dickerson', 'Michael Rapaport', 'Anthony Scaramucci', 'Tiffany Haddish', 'Maggie Gyllenhaal', 'Graham Norton', 'Liev Schreiber', 'Joe Buck', 'Sonequa Martin-Green', 'Senator Bernie Sanders', 'Caitriona Balfe', 'Jessica Biel', 'Sonequa Martin-Green', 'Second Anniversary Special', 'Hillary Clinton', 'Emma Stone', 'Jeff Bridges', 'Senator Jeff Flake', 'Jim Parsons', 'Pamela Adlon', 'Bobby Moynihan', 'Tatiana Maslany', 'Sterling K. Brown', 'Chance the Rapper', 'Sofía Vergara', 'David Boreanaz', 'Ken Burns', 'Nick Kroll', 'Michael Bloomberg', 'Steve Martin', 'Mark Feuerstein', 'Jerry Seinfeld', 'Pierce Brosnan', 'Jason Alexander', 'Ta-Nehisi Coates', 'Michael Weatherly', 'Natasha Leggero', 'Kerry Washington', 'Russell Brand', 'Morgan Freeman', 'Grace Gummer', 'Kathy Bates', 'Jackie Chan', 'Bob Schieffer', 'Tracee Ellis Ross', 'Luke Evans', 'Andrew Garfield', 'Tracey Ullman', 'Bill Murray', 'Claire Foy', \"Conan O'Brien\", 'Tig Notaro', 'Anna Faris', 'Amy Sedaris', 'Jake Tapper', 'Shemar Moore', 'Hugh Laurie', 'Gretchen Carlson', 'Julianne Moore', 'Jermaine Fowler', 'Dr. Phil McGraw', 'Captain Scott Kelly', 'Billy Eichner', 'Anna Camp', 'Mark Ruffalo', 'Chris Matthews', 'Gilbert Gottfried', 'Nicole Kidman', 'Jonathan Groff', 'Whoopi Goldberg', 'Kathryn Hahn', 'Ronan Farrow', 'Walter Isaacson', 'Josh Gad', \"Lawrence O'Donnell\", 'Derek DelGaudio', 'Jason Segel', 'Jeff Fager', 'Lesley Stahl', 'Norman Reedus', 'Sean Astin', 'William H. Macy', 'Jay Pharoah[a]', 'John Mulaney', 'Jason Segel', 'Joe Biden', 'Elton John', 'Tyler Perry', 'Anthony Atamanuik', 'John Avlon', 'Jordan Peele', 'Alia Shawkat', 'Ben Affleck', 'Greta Gerwig', \"Norah O'Donnell\", 'Senator Elizabeth Warren', 'Desus', 'Mero', 'Gayle King', 'Daveed Diggs', 'John Leguizamo', 'Justin Timberlake', 'Carmen Yulín Cruz', 'Kate Winslet', 'Carol Burnett', 'Lewis Black', 'Billy Bush', 'Gwendoline Christie', 'Saoirse Ronan', 'Van Jones', 'Michelle Wolf', 'Ed Helms', 'Christopher Jackson', 'Sarah Paulson', 'John Hodgman', 'Mark Hamill', 'Bobby Flay', 'Matt Damon', 'Rahm Emanuel', 'Tom Hanks', 'Katy Tur', 'Nick Jonas', 'Dennis Rodman', 'Adam Driver', 'John Early', 'Jodie Foster', 'Tom Hanks']\n",
      "2018\n",
      "['Anderson Cooper', 'Maz Jobrani', 'America Ferrera', 'David Harbour', '50 Cent', 'Rachel Brosnahan', 'Neil deGrasse Tyson', 'Liam Neeson', 'Michael Wolff', 'James Franco', 'Lena Waithe', 'Sarah Jessica Parker', 'Pete Holmes', 'Molly Shannon', 'Thomas Lennon', 'Laurie Metcalf', 'Michael Wolff', 'Carly Fleischmann', 'John Lithgow', 'Senator Chuck Schumer', 'Jon Bon Jovi', 'Daniel Kaluuya', 'Ben Sinclair', 'Ricky Gervais', 'Matt Czuchry', 'Sharon Stone', 'Rob Riggle', 'J. K. Simmons', 'Pete Holmes', 'James Corden', 'Ann Curry', 'John Dickerson', 'Eugene Levy', 'Willem Dafoe', 'RuPaul', 'Roy Wood Jr.', 'Gwyneth Paltrow', 'Ben McKenzie', 'Kyle MacLachlan', 'Deon Cole', 'Julie Chen', 'Joel Kinnaman', 'Jon Favreau', 'Jon Lovett', 'Tommy Vietor', 'Jessica Williams', 'Phoebe Robinson', 'Rose McGowan', 'Senator Rand Paul', 'Michael Shannon', 'Meghan McCain', 'Uma Thurman', 'Michael Shannon', 'Claire Danes', 'Bernadette Peters', 'Wanda Sykes', 'Thomas Haden Church', 'June Diane Raphael', 'John Oliver', 'Beanie Feldstein', 'Joel McHale', 'Yara Shahidi', 'John Oliver', 'Nathan Lane', 'Senator Kirsten Gillibrand', 'Chris Gethard', 'Sam Rockwell', 'J. J. Abrams', 'Christine Baranski', 'Constance Zimmer', 'Jennifer Lawrence', 'Patton Oswalt', 'Kiefer Sutherland', 'Zoe Lister-Jones', 'John McWhorter', 'Donald Glover', 'Omarosa Manigault', 'Jeff Daniels', 'Krysten Ritter', 'Steve Buscemi', 'Sebastian Maniscalco', 'David Oyelowo', 'Chelsea Clinton', 'Martha Stewart', 'Oprah Winfrey', 'Justin Hartley', 'Reese Witherspoon', 'Adam Rippon', 'Mindy Kaling', 'Chris Hayes', 'Helen Mirren', 'David Byrne', 'Tom Brady', 'Angela Bassett', 'Jimmy O. Yang', 'Paul Giamatti', 'Sean Bean', 'Drew Barrymore', 'Adam DeVine', 'Hilary Swank', 'Thomas Middleditch', 'Keri Russell', 'Matthew Rhys', 'Mindy Kaling', 'Sean Penn', 'Sara Gilbert', 'Samantha Bee', 'Leslie Odom Jr.', 'Tom Segura', 'Dana Carvey', 'Simon Pegg', 'Emily Blunt', 'John Heilemann', 'Alex Wagner', 'Bryan Cranston', 'Jimmy Carter', 'Amy Schumer', 'Madeleine Albright', 'James Spader', 'Katie Couric', 'Louie Anderson', 'Martin Short', 'Aisha Tyler', 'Diane Sawyer', 'Joshua Jackson', 'Aubrey Plaza', 'John Dickerson', 'Charlamagne tha God', 'Nell Scovell', 'James Comey', 'Cynthia Nixon', 'Alan Cumming', 'Antonio Banderas', 'Senator Kamala Harris', 'James Marsden', 'Coyote Peterson', 'Jeffrey Wright', 'Ali Wentworth', 'Hank Azaria', 'Ronan Farrow', 'Lucy Liu', 'Henry Winkler', 'Rachel Weisz', 'Ann Dowd', 'Mandy Patinkin', 'H. Jon Benjamin', 'David Duchovny', 'Margaret Brennan', 'Robert Smigel', 'Helen Hunt', 'Kevin Smith', 'Jim Gaffigan', 'Michael Avenatti', 'David Chang', 'Charlize Theron', 'Ron Howard', \"Chris O'Donnell\", 'Jack White', 'Jim Parsons', 'Alexis Ohanian', 'Michael B. Jordan', 'Matt Walsh', 'Gayle King', 'Anna Wintour', 'Annette Bening', 'Wyatt Cenac', 'Melissa McCarthy', 'Mayim Bialik', 'Anthony Anderson', 'Glenda Jackson', 'Michael Pollan', 'Jamie Foxx', 'Chadwick Boseman', 'Jake Tapper', 'Benedict Cumberbatch', 'Zachary Quinto', 'Vanessa Bayer', 'Dean Baquet', 'Andrew Garfield', 'David Cross', 'Jason Bateman', 'Stephen King', 'Anne Hathaway', 'David Sedaris', 'Ethan Hawke', 'Toni Collette', 'Bill Clinton', 'James Patterson', 'Tig Notaro', 'Mandy Moore', 'Sara Bareilles', 'Josh Groban', 'Nick Offerman', 'Niecy Nash', 'Jeff Glor', 'David Koechner', 'Chris Matthews', 'Alicia Silverstone', 'Ed Helms', 'Michael K. Williams', 'Tom Papa', 'Anthony Scaramucci', 'Michael Avenatti', 'Natalie Portman', 'Marc Maron', 'Thandie Newton', 'Betty Gilpin', 'Benicio del Toro', 'Alison Brie', 'Robin Thede', 'Josh Brolin', 'Ruth Negga', 'Trevor Noah', 'Liza Koshy', 'Don Lemon', 'Mike Colter', 'Seth Rogen', 'Jessica Chastain', 'Romesh Ranganathan', 'Scott Rogowsky', 'Hugh Grant', 'Margaret Hoover', 'Paul Rudd', 'Ken Jeong', 'Michael Moore', 'Eric Andre', 'Derrick Beckles', 'Alexandria Ocasio-Cortez', 'Gordon Ramsay', 'Andrew Rannells', 'Will Arnett', 'Neve Campbell', 'Dwayne Johnson', \"Lawrence O'Donnell\", 'Liv Tyler', 'Carey Mulligan', 'Armie Hammer', 'Colleen Ballinger', 'Paula Poundstone', 'Chrissy Metz', 'Lewis Black', 'Anderson Cooper', 'Andy Cohen', 'Dominic Cooper', 'Denzel Washington', 'Representative Joe Kennedy III', 'Janelle Monáe', 'Eric Holder', 'John Cleese', 'Michael McFaul', 'Tatiana Maslany', 'Brian Huskey', 'John Dickerson', 'Michaela Watkins', 'Jake Tapper', 'Michael Peña', 'Laura Linney', 'Judd Apatow', 'Jace Norman', 'Paul Giamatti', 'Ronda Rousey', 'Paul Mecurio', 'Ewan McGregor', 'Adam Pally', 'Chloë Grace Moretz', 'Bobcat Goldthwait', 'Rob Reiner', 'Chris Hayes', 'Rob Corddry', 'Joe Manganiello', 'Senator Cory Booker', 'Jim Acosta', 'Nina Dobrev', 'Issa Rae', 'Darren Criss', 'Ronny Chieng', 'Nicki Minaj', 'Guy Pearce', 'Mark Wahlberg', 'Senator Bernie Sanders', 'Jessica Biel', 'W. Kamau Bell', 'Tommy Vietor', 'Jon Favreau', 'Jon Lovett', 'Constance Wu', 'John Krasinski', 'Yvonne Orji', 'Rob Lowe', 'John Kerry', 'Emma Thompson', 'Troye Sivan', 'Sharon Osbourne', 'Bob Woodward', 'Neil deGrasse Tyson', 'Michael Rapaport', 'Keira Knightley', \"Representative Beto O'Rourke\", 'Martha Stewart', 'John Heilemann', 'Alex Wagner', 'Judy Greer', 'Anna Kendrick', '\"Admit It', 'You Forgot This Happened\"', 'Jane Fonda', 'Willie Nelson', 'Tiffany Haddish', 'Iain Armitage', 'Hillary Rodham Clinton', 'Emma Stone', 'Bret McKenzie', 'Jemaine Clement', 'America Ferrera', 'Nas', 'Candice Bergen', 'Jacinda Ardern', 'Jeff Bridges', 'Cedric the Entertainer', 'Kristen Bell', 'Mark Leibovich', 'Jake Tapper', 'Eric Idle', 'Eva Longoria', 'Damon Wayans Jr.', 'Steve Kornacki', 'Nick Kroll', 'Jodie Whittaker', 'Lady Gaga', 'Ellie Kemper', 'Sam Elliott', 'Melissa McCarthy', 'Phoebe Robinson', 'Lin-Manuel Miranda', 'Brooke Baldwin', 'Peter Dinklage', 'Busy Philipps', 'Joe Scarborough', 'Mika Brzezinski', 'Laura Benanti', 'Robin Wright', 'Melissa McCarthy', 'Sarah Silverman', 'Scott Bakula', 'Jon Favreau', 'Jon Lovett', 'Tommy Vietor', 'Charlamagne tha God', 'Gerard Butler', 'Rowan Atkinson', 'Ina Garten', 'Gayle King', 'Dr. Phil McGraw', 'Kayli Carter', 'Kerry Washington', 'Taylor Mac', 'Sarah Jessica Parker', 'Representative Nancy Pelosi', 'Mike Myers', 'Christiane Amanpour', 'Chris Wallace', 'Cole Sprouse', 'Billy Eichner', 'TBA', 'TBA', 'TBA', 'TBA', 'TBA']\n",
      "647\n",
      "1467\n"
     ]
    }
   ],
   "source": [
    "years=['2015','2016','2017','2018']\n",
    "\n",
    "episode_details_df = pd.DataFrame(columns=['episode_no','episode_date','guest_list'])\n",
    "guest_details_df = pd.DataFrame(columns=['guest_name','wiki_link'])\n",
    "\n",
    "for year in years:\n",
    "    print(year)\n",
    "    year_episode_details,year_guests_details=get_data(year) \n",
    "    episode_details_df = pd.concat([episode_details_df,year_episode_details],ignore_index=True)\n",
    "    guest_details_df = pd.concat([guest_details_df,year_guests_details],ignore_index=True)\n",
    "    \n",
    "    \n",
    "print(len(episode_details_df))\n",
    "print(len(guest_details_df))\n",
    "\n",
    "episode_details_df.to_csv('episode_details.csv',encoding='utf-8')\n",
    "guest_details_df.to_csv('guest_details.csv',encoding='utf-8')"
   ]
  },
  {
   "cell_type": "code",
   "execution_count": null,
   "metadata": {},
   "outputs": [],
   "source": []
  }
 ],
 "metadata": {
  "kernelspec": {
   "display_name": "Python 3",
   "language": "python",
   "name": "python3"
  },
  "language_info": {
   "codemirror_mode": {
    "name": "ipython",
    "version": 3
   },
   "file_extension": ".py",
   "mimetype": "text/x-python",
   "name": "python",
   "nbconvert_exporter": "python",
   "pygments_lexer": "ipython3",
   "version": "3.7.0"
  }
 },
 "nbformat": 4,
 "nbformat_minor": 2
}
